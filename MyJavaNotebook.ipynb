{
 "cells": [
  {
   "cell_type": "markdown",
   "id": "0112172f",
   "metadata": {},
   "source": [
    "# Java-Notizbuch #"
   ]
  },
  {
   "cell_type": "markdown",
   "id": "4366d52e",
   "metadata": {},
   "source": [
    "Dieses Test-Notizbuch verwendet einen Java-Kernel, sodass eine Ausführung von Java-Programmcode möglich ist."
   ]
  },
  {
   "cell_type": "code",
   "execution_count": 1,
   "id": "638ded9e",
   "metadata": {},
   "outputs": [],
   "source": [
    "public class Test{\n",
    "    public Test(){\n",
    "        System.out.println(\"Hello World!\");\n",
    "    }\n",
    "}"
   ]
  },
  {
   "cell_type": "markdown",
   "id": "cd3650c4",
   "metadata": {},
   "source": [
    "Nachdem die obige Klasse kompiliert wurde, kann sie instanziiert werden."
   ]
  },
  {
   "cell_type": "code",
   "execution_count": 3,
   "id": "1426ad36",
   "metadata": {},
   "outputs": [
    {
     "name": "stdout",
     "output_type": "stream",
     "text": [
      "Hello World!\r\n"
     ]
    }
   ],
   "source": [
    "Test t = new Test();"
   ]
  }
 ],
 "metadata": {
  "kernelspec": {
   "display_name": "Java",
   "language": "java",
   "name": "java"
  },
  "language_info": {
   "codemirror_mode": "java",
   "file_extension": ".jshell",
   "mimetype": "text/x-java-source",
   "name": "Java",
   "pygments_lexer": "java",
   "version": "17.0.1+12"
  }
 },
 "nbformat": 4,
 "nbformat_minor": 5
}
